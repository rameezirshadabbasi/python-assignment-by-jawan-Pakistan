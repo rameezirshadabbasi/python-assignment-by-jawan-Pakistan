{
 "cells": [
  {
   "cell_type": "code",
   "execution_count": 5,
   "id": "ad367d3f",
   "metadata": {},
   "outputs": [
    {
     "name": "stdout",
     "output_type": "stream",
     "text": [
      "Twinkle, twinkle, little star, \n",
      "\tHow I wonder what you are! \n",
      "\t\tUp above the world so high, \n",
      "\t\tLike a diamond in the sky. \n",
      "Twinkle, twinkle, little star, \n",
      "\tHow I wonder what you are!\n"
     ]
    }
   ],
   "source": [
    "# Question 01\n",
    "\n",
    "print(\"Twinkle, twinkle, little star, \\n\\tHow I wonder what you are! \\n\\t\\tUp above the world so high, \\n\\t\\tLike a diamond in the sky. \\nTwinkle, twinkle, little star, \\n\\tHow I wonder what you are!\")\n",
    "\n",
    "\n",
    "\n",
    "\n"
   ]
  },
  {
   "cell_type": "code",
   "execution_count": 2,
   "id": "88842a30",
   "metadata": {},
   "outputs": [
    {
     "name": "stdout",
     "output_type": "stream",
     "text": [
      "Python version is \n",
      "3.9.7 (default, Sep 16 2021, 16:59:28) [MSC v.1916 64 bit (AMD64)]\n"
     ]
    }
   ],
   "source": [
    "#Question 02\n",
    "\n",
    "import sys\n",
    "print(\"Python version is \")\n",
    "print (sys.version)\n"
   ]
  },
  {
   "cell_type": "code",
   "execution_count": 3,
   "id": "92554371",
   "metadata": {},
   "outputs": [
    {
     "name": "stdout",
     "output_type": "stream",
     "text": [
      "Current date and time: \n",
      "2022-01-01 00:14:37.515032\n"
     ]
    }
   ],
   "source": [
    "# Question 03\n",
    "\n",
    "import datetime\n",
    "now = datetime.datetime.now()\n",
    "print(\"Current date and time: \");\n",
    "print(str(now));\n"
   ]
  },
  {
   "cell_type": "code",
   "execution_count": 6,
   "id": "cbf74738",
   "metadata": {},
   "outputs": [
    {
     "name": "stdout",
     "output_type": "stream",
     "text": [
      "Enter radius of circle : 4\n",
      "Area of the circle is: 50.26548245743669\n"
     ]
    }
   ],
   "source": [
    "# Question 04\n",
    "from math import pi\n",
    "\n",
    "r = float(input (\"Enter radius of circle : \"));\n",
    "\n",
    "print (\"Area of the circle is: \" + str(pi * r**2));\n",
    "\n"
   ]
  },
  {
   "cell_type": "code",
   "execution_count": 7,
   "id": "c05421a7",
   "metadata": {},
   "outputs": [
    {
     "name": "stdout",
     "output_type": "stream",
     "text": [
      "Input your First Name : r\n",
      "Input your Last Name : r\n",
      "Hello  r r\n"
     ]
    }
   ],
   "source": [
    "# question 05\n",
    "fname = input(\"Input your First Name : \");\n",
    "lname = input(\"Input your Last Name : \");\n",
    "print (\"Hello  \" + lname + \" \" + fname);\n"
   ]
  },
  {
   "cell_type": "code",
   "execution_count": null,
   "id": "a0bddb7e",
   "metadata": {},
   "outputs": [],
   "source": [
    "# question 06\n",
    "\n",
    "x = input(\"Type a number: \");\n",
    "y = input(\"Type another number: \");\n",
    "\n",
    "sum = int(x) + int(y);\n",
    "\n",
    "print(\" Total sum is: \", sum);\n"
   ]
  },
  {
   "cell_type": "code",
   "execution_count": null,
   "id": "582ad641",
   "metadata": {},
   "outputs": [],
   "source": []
  }
 ],
 "metadata": {
  "kernelspec": {
   "display_name": "Python 3 (ipykernel)",
   "language": "python",
   "name": "python3"
  },
  "language_info": {
   "codemirror_mode": {
    "name": "ipython",
    "version": 3
   },
   "file_extension": ".py",
   "mimetype": "text/x-python",
   "name": "python",
   "nbconvert_exporter": "python",
   "pygments_lexer": "ipython3",
   "version": "3.9.7"
  }
 },
 "nbformat": 4,
 "nbformat_minor": 5
}
